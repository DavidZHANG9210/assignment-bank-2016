{
 "cells": [
  {
   "cell_type": "markdown",
   "metadata": {},
   "source": [
    "# Solid brake disc simulation"
   ]
  },
  {
   "cell_type": "code",
   "execution_count": 55,
   "metadata": {
    "collapsed": false
   },
   "outputs": [],
   "source": [
    "import numpy\n",
    "import sympy\n",
    "from sympy import *\n",
    "from matplotlib import pyplot\n",
    "%matplotlib inline\n",
    "from matplotlib import rcParams\n",
    "rcParams['font.family'] = 'serif'\n",
    "rcParams['font.size'] = 16"
   ]
  },
  {
   "cell_type": "markdown",
   "metadata": {
    "collapsed": true
   },
   "source": [
    "calculate the heat flux in a unite time"
   ]
  },
  {
   "cell_type": "code",
   "execution_count": 56,
   "metadata": {
    "collapsed": false
   },
   "outputs": [],
   "source": [
    "# initial parameters of the brake disc\n",
    "sympy.init_printing()\n",
    "(F, P, T, r, p_max, pi, r_i, dr, r_o, f_r, n, N) = sympy.symbols('F P T r p_max  pi  r_i  dr  r_o  f_r n  N')"
   ]
  },
  {
   "cell_type": "code",
   "execution_count": 57,
   "metadata": {
    "collapsed": true
   },
   "outputs": [],
   "source": [
    "r = sympy.symbols('r', positive = True)\n",
    "clamping_force = sympy.Eq(F, integrate((2*pi*p_max*r), (r, r_i, r_o)))"
   ]
  },
  {
   "cell_type": "code",
   "execution_count": 58,
   "metadata": {
    "collapsed": false
   },
   "outputs": [
    {
     "data": {
      "image/png": "[encoded data removed]",
      "text/latex": [
       "$$F = - p_{max} \\pi r_{i}^{2} + p_{max} \\pi r_{o}^{2}$$"
      ],
      "text/plain": [
       "               2            2\n",
       "F = - pₘₐₓ⋅π⋅rᵢ  + pₘₐₓ⋅π⋅rₒ "
      ]
     },
     "execution_count": 58,
     "metadata": {},
     "output_type": "execute_result"
    }
   ],
   "source": [
    "clamping_force"
   ]
  },
  {
   "cell_type": "markdown",
   "metadata": {},
   "source": [
    "$$F=\\int_{r_o}^{r_i}2{\\pi}p_{max}rdr=2{\\pi}p_{max}r_i(r_{o}-r_{i})$$"
   ]
  },
  {
   "cell_type": "markdown",
   "metadata": {
    "collapsed": true
   },
   "source": [
    "calculate the heat generation power(heat flux between callipers and discs) "
   ]
  },
  {
   "cell_type": "code",
   "execution_count": 73,
   "metadata": {
    "collapsed": false
   },
   "outputs": [],
   "source": [
    "heat_generation = sympy.Eq(P, integrate((2*pi*r*f_r*p_max*n*2*pi*r*N/60),(r, r_i, r_o)))"
   ]
  },
  {
   "cell_type": "code",
   "execution_count": 74,
   "metadata": {
    "collapsed": false
   },
   "outputs": [
    {
     "data": {
      "image/png": "[encoded data removed]",
      "text/latex": [
       "$$P = - \\frac{N f_{r}}{45} n p_{max} \\pi^{2} r_{i}^{3} + \\frac{N f_{r}}{45} n p_{max} \\pi^{2} r_{o}^{3}$$"
      ],
      "text/plain": [
       "                   2   3                2   3\n",
       "      N⋅fᵣ⋅n⋅pₘₐₓ⋅π ⋅rᵢ    N⋅fᵣ⋅n⋅pₘₐₓ⋅π ⋅rₒ \n",
       "P = - ────────────────── + ──────────────────\n",
       "              45                   45        "
      ]
     },
     "execution_count": 74,
     "metadata": {},
     "output_type": "execute_result"
    }
   ],
   "source": [
    "heat_generation "
   ]
  },
  {
   "cell_type": "markdown",
   "metadata": {},
   "source": [
    "$$P=\\int_{r_o}^{r_i}2{\\pi}rf_rp_{max}\\left(\\frac{n2{\\pi}}{60}\\right)rNdr$$"
   ]
  },
  {
   "cell_type": "code",
   "execution_count": 75,
   "metadata": {
    "collapsed": false
   },
   "outputs": [],
   "source": [
    "P_sol = sympy.solve(heat_generation, P) "
   ]
  },
  {
   "cell_type": "code",
   "execution_count": 76,
   "metadata": {
    "collapsed": false
   },
   "outputs": [
    {
     "data": {
      "image/png": "[encoded data removed]",
      "text/latex": [
       "$$\\left [ \\frac{N f_{r}}{45} n p_{max} \\pi^{2} \\left(- r_{i}^{3} + r_{o}^{3}\\right)\\right ]$$"
      ],
      "text/plain": [
       "⎡             2 ⎛    3     3⎞⎤\n",
       "⎢N⋅fᵣ⋅n⋅pₘₐₓ⋅π ⋅⎝- rᵢ  + rₒ ⎠⎥\n",
       "⎢────────────────────────────⎥\n",
       "⎣             45             ⎦"
      ]
     },
     "execution_count": 76,
     "metadata": {},
     "output_type": "execute_result"
    }
   ],
   "source": [
    "P_sol"
   ]
  },
  {
   "cell_type": "code",
   "execution_count": 77,
   "metadata": {
    "collapsed": false
   },
   "outputs": [
    {
     "ename": "AttributeError",
     "evalue": "'list' object has no attribute 'evalf'",
     "output_type": "error",
     "traceback": [
      "\u001b[0;31m---------------------------------------------------------------------------\u001b[0m",
      "\u001b[0;31mAttributeError\u001b[0m                            Traceback (most recent call last)",
      "\u001b[0;32m<ipython-input-77-02dc5d5ecaaf>\u001b[0m in \u001b[0;36m<module>\u001b[0;34m()\u001b[0m\n\u001b[0;32m----> 1\u001b[0;31m \u001b[0mheatflux\u001b[0m \u001b[0;34m=\u001b[0m \u001b[0mP_sol\u001b[0m\u001b[0;34m.\u001b[0m\u001b[0mevalf\u001b[0m\u001b[0;34m(\u001b[0m\u001b[0msubs\u001b[0m\u001b[0;34m=\u001b[0m\u001b[0;34m{\u001b[0m\u001b[0mpi\u001b[0m\u001b[0;34m:\u001b[0m\u001b[0mnumpy\u001b[0m\u001b[0;34m.\u001b[0m\u001b[0mpi\u001b[0m\u001b[0;34m,\u001b[0m \u001b[0mf_r\u001b[0m\u001b[0;34m:\u001b[0m\u001b[0;36m0.2\u001b[0m\u001b[0;34m,\u001b[0m \u001b[0mn\u001b[0m\u001b[0;34m:\u001b[0m\u001b[0;36m840\u001b[0m\u001b[0;34m,\u001b[0m \u001b[0mp_max\u001b[0m\u001b[0;34m:\u001b[0m\u001b[0;36m13e5\u001b[0m\u001b[0;34m,\u001b[0m \u001b[0mN\u001b[0m\u001b[0;34m:\u001b[0m\u001b[0;36m1\u001b[0m\u001b[0;34m,\u001b[0m \u001b[0mr_i\u001b[0m\u001b[0;34m:\u001b[0m\u001b[0;36m81.1\u001b[0m\u001b[0;34m/\u001b[0m\u001b[0;36m1000\u001b[0m\u001b[0;34m,\u001b[0m \u001b[0mr_o\u001b[0m\u001b[0;34m:\u001b[0m\u001b[0;36m131.1\u001b[0m\u001b[0;34m/\u001b[0m\u001b[0;36m1000\u001b[0m\u001b[0;34m}\u001b[0m\u001b[0;34m)\u001b[0m\u001b[0;34m\u001b[0m\u001b[0m\n\u001b[0m",
      "\u001b[0;31mAttributeError\u001b[0m: 'list' object has no attribute 'evalf'"
     ]
    }
   ],
   "source": [
    "heatflux = P_sol.evalf(subs={pi:numpy.pi, f_r:0.2, n:840, p_max:13e5, N:1, r_i:81.1/1000, r_o:131.1/1000})"
   ]
  },
  {
   "cell_type": "code",
   "execution_count": 78,
   "metadata": {
    "collapsed": false
   },
   "outputs": [
    {
     "data": {
      "image/png": "[encoded data removed]",
      "text/latex": [
       "$$P = - 0.0222222222222222 N f_{r} n p_{max} \\pi^{2} r_{i}^{3} + 0.0222222222222222 N f_{r} n p_{max} \\pi^{2} r_{o}^{3}$$"
      ],
      "text/plain": [
       "                                      2   3                                   \n",
       "P = - 0.0222222222222222⋅N⋅fᵣ⋅n⋅pₘₐₓ⋅π ⋅rᵢ  + 0.0222222222222222⋅N⋅fᵣ⋅n⋅pₘₐₓ⋅π\n",
       "\n",
       "2   3\n",
       " ⋅rₒ "
      ]
     },
     "execution_count": 78,
     "metadata": {},
     "output_type": "execute_result"
    }
   ],
   "source": [
    "heatflux"
   ]
  },
  {
   "cell_type": "code",
   "execution_count": 79,
   "metadata": {
    "collapsed": false
   },
   "outputs": [],
   "source": [
    "#parameters of the solid brake disc (brembo)\n",
    "r_i = 81.1/1000 #m    #inner circular radius\n",
    "r_o = 131.1/1000 #mm    #outor circular radius\n",
    "b = 11/1000 #mm        #thickness of disc\n",
    "H = r_o - r_i  #mm width of the disc\n",
    "\n",
    "nx = 110\n",
    "ny = 500\n",
    "nt = 500\n",
    "\n",
    "x = numpy.linspace(0, b, nx)\n",
    "y = numpy.linspace(0, H, ny)\n",
    "\n",
    "dx = b/(nx-1)\n",
    "dy = H/(ny-1)\n",
    "\n",
    "alpha = 50 #W/Km\n",
    "sigma = 0.2\n",
    "dt = sigma*min(dx, dy)**2/alpha\n",
    "\n",
    "Ti = numpy.ones((ny, nx))*298   # kelvin temperature"
   ]
  },
  {
   "cell_type": "code",
   "execution_count": 83,
   "metadata": {
    "collapsed": true
   },
   "outputs": [],
   "source": [
    "f_r = 0.2\n",
    "p_max = 13e5 #unite pa\n",
    "n = 840\n",
    "N = 1"
   ]
  },
  {
   "cell_type": "code",
   "execution_count": 84,
   "metadata": {
    "collapsed": true
   },
   "outputs": [],
   "source": [
    "heat_flux = N*f_r*n*p_max*(numpy.pi**2)*(r_o**3 - r_i**3)/45"
   ]
  },
  {
   "cell_type": "code",
   "execution_count": 85,
   "metadata": {
    "collapsed": false
   },
   "outputs": [
    {
     "data": {
      "image/png": "[encoded data removed]",
      "text/latex": [
       "$$82380.7544149025$$"
      ],
      "text/plain": [
       "82380.7544149025"
      ]
     },
     "execution_count": 85,
     "metadata": {},
     "output_type": "execute_result"
    }
   ],
   "source": [
    "heat_flux #unit W/m^2"
   ]
  },
  {
   "cell_type": "code",
   "execution_count": null,
   "metadata": {
    "collapsed": true
   },
   "outputs": [],
   "source": [
    "def ftcs(T, nt, alpha, dt, dx, dy, p):\n",
    "    \n",
    "    for n in range(nt):\n",
    "        Tn = T.copy()\n",
    "        T[1:-1,1:-1] = Tn[1:-1, 1:-1] + \\\n",
    "            alpha*dt/dx**2 * (Tn[1:-1,2:] - 2*Tn[1:-1,1:-1] + Tn[1:-1,:-2]) + \\\n",
    "            alpha*dt/dy**2 * (Tn[2:,1:-1] - 2*Tn[1:-1,1:-1] + Tn[:-2,1:-1])\n",
    "        \n",
    "        # Neumann Boundary Conditions\n",
    "        #left boundary\n",
    "        "
   ]
  },
  {
   "cell_type": "code",
   "execution_count": 45,
   "metadata": {
    "collapsed": false
   },
   "outputs": [
    {
     "data": {
      "image/png": "[encoded data removed]",
      "text/latex": [
       "$$1300000.0$$"
      ],
      "text/plain": [
       "1300000.0"
      ]
     },
     "execution_count": 45,
     "metadata": {},
     "output_type": "execute_result"
    }
   ],
   "source": [
    "1300e3"
   ]
  },
  {
   "cell_type": "code",
   "execution_count": 46,
   "metadata": {
    "collapsed": false
   },
   "outputs": [
    {
     "data": {
      "image/png": "[encoded data removed]",
      "text/latex": [
       "$$1300000.0$$"
      ],
      "text/plain": [
       "1300000.0"
      ]
     },
     "execution_count": 46,
     "metadata": {},
     "output_type": "execute_result"
    }
   ],
   "source": [
    "13e5"
   ]
  },
  {
   "cell_type": "code",
   "execution_count": null,
   "metadata": {
    "collapsed": true
   },
   "outputs": [],
   "source": []
  }
 ],
 "metadata": {
  "anaconda-cloud": {},
  "kernelspec": {
   "display_name": "Python [default]",
   "language": "python",
   "name": "python3"
  },
  "language_info": {
   "codemirror_mode": {
    "name": "ipython",
    "version": 3
   },
   "file_extension": ".py",
   "mimetype": "text/x-python",
   "name": "python",
   "nbconvert_exporter": "python",
   "pygments_lexer": "ipython3",
   "version": "3.5.2"
  }
 },
 "nbformat": 4,
 "nbformat_minor": 1
}
