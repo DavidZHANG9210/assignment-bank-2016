{
 "cells": [
  {
   "cell_type": "markdown",
   "metadata": {},
   "source": [
    "# Solid brake disc simulation"
   ]
  },
  {
   "cell_type": "code",
   "execution_count": 10,
   "metadata": {
    "collapsed": false
   },
   "outputs": [],
   "source": [
    "import numpy\n",
    "import sympy\n",
    "from sympy import *\n",
    "from matplotlib import pyplot\n",
    "%matplotlib inline\n",
    "from matplotlib import rcParams\n",
    "rcParams['font.family'] = 'serif'\n",
    "rcParams['font.size'] = 16"
   ]
  },
  {
   "cell_type": "code",
   "execution_count": 38,
   "metadata": {
    "collapsed": false
   },
   "outputs": [],
   "source": [
    "#parameters of the solid brake disc (brembo)\n",
    "r_i = 81.1 #mm    #inner circular radius\n",
    "r_o = 131.1 #mm    #outor circular radius\n",
    "b = 11 #mm        #thickness of disc"
   ]
  },
  {
   "cell_type": "markdown",
   "metadata": {
    "collapsed": true
   },
   "source": [
    "calculate the heat flux in a unite time"
   ]
  },
  {
   "cell_type": "code",
   "execution_count": 34,
   "metadata": {
    "collapsed": false
   },
   "outputs": [],
   "source": [
    "# initial parameters of the brake disc\n",
    "sympy.init_printing()\n",
    "(F, P, T, r, p_max, pi, r_i, dr, r_o, f_r, n, N) = sympy.symbols('F P T r p_max  pi  r_i  dr  r_o  f_r n  N')"
   ]
  },
  {
   "cell_type": "code",
   "execution_count": 27,
   "metadata": {
    "collapsed": true
   },
   "outputs": [],
   "source": [
    "r = sympy.symbols('r', positive = True)\n",
    "clamping_force = sympy.Eq(F, integrate((2*pi*p_max*r), (r, r_i, r_o)))"
   ]
  },
  {
   "cell_type": "code",
   "execution_count": 28,
   "metadata": {
    "collapsed": false
   },
   "outputs": [
    {
     "data": {
      "image/png": "[encoded data removed]",
      "text/latex": [
       "$$F = - p_{max} \\pi r_{i}^{2} + p_{max} \\pi r_{o}^{2}$$"
      ],
      "text/plain": [
       "               2            2\n",
       "F = - pₘₐₓ⋅π⋅rᵢ  + pₘₐₓ⋅π⋅rₒ "
      ]
     },
     "execution_count": 28,
     "metadata": {},
     "output_type": "execute_result"
    }
   ],
   "source": [
    "clamping_force"
   ]
  },
  {
   "cell_type": "markdown",
   "metadata": {},
   "source": [
    "$$F=\\int_{r_o}^{r_i}2{\\pi}p_{max}rdr=2{\\pi}p_{max}r_i(r_{o}-r_{i})$$"
   ]
  },
  {
   "cell_type": "markdown",
   "metadata": {
    "collapsed": true
   },
   "source": [
    "calculate the heat generation power(heat flux) "
   ]
  },
  {
   "cell_type": "code",
   "execution_count": 35,
   "metadata": {
    "collapsed": false
   },
   "outputs": [],
   "source": [
    "heat_generation = sympy.Eq(P, integrate((2*pi*r*f_r*p_max*n*2*pi*r*N/60),(r, r_i, r_o)))"
   ]
  },
  {
   "cell_type": "code",
   "execution_count": 36,
   "metadata": {
    "collapsed": false
   },
   "outputs": [
    {
     "data": {
      "image/png": "[encoded data removed]",
      "text/latex": [
       "$$P = - \\frac{N f_{r}}{45} n p_{max} \\pi^{2} r_{i}^{3} + \\frac{N f_{r}}{45} n p_{max} \\pi^{2} r_{o}^{3}$$"
      ],
      "text/plain": [
       "                   2   3                2   3\n",
       "      N⋅fᵣ⋅n⋅pₘₐₓ⋅π ⋅rᵢ    N⋅fᵣ⋅n⋅pₘₐₓ⋅π ⋅rₒ \n",
       "P = - ────────────────── + ──────────────────\n",
       "              45                   45        "
      ]
     },
     "execution_count": 36,
     "metadata": {},
     "output_type": "execute_result"
    }
   ],
   "source": [
    "heat_generation"
   ]
  },
  {
   "cell_type": "markdown",
   "metadata": {},
   "source": [
    "$$P=\\int_{r_o}^{r_i}2{\\pi}rf_rp_{max}\\left(\\frac{n2{\\pi}}{60}\\right)rNdr$$"
   ]
  },
  {
   "cell_type": "code",
   "execution_count": null,
   "metadata": {
    "collapsed": true
   },
   "outputs": [],
   "source": []
  }
 ],
 "metadata": {
  "anaconda-cloud": {},
  "kernelspec": {
   "display_name": "Python [default]",
   "language": "python",
   "name": "python3"
  },
  "language_info": {
   "codemirror_mode": {
    "name": "ipython",
    "version": 3
   },
   "file_extension": ".py",
   "mimetype": "text/x-python",
   "name": "python",
   "nbconvert_exporter": "python",
   "pygments_lexer": "ipython3",
   "version": "3.5.2"
  }
 },
 "nbformat": 4,
 "nbformat_minor": 1
}
